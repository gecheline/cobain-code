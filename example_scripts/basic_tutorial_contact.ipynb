{
 "cells": [
  {
   "cell_type": "heading",
   "metadata": {},
   "level": 1,
   "source": [
    "Contact Binary"
   ]
  },
  {
   "cell_type": "markdown",
   "metadata": {},
   "source": [
    "Import cobain and other useful packages."
   ]
  },
  {
   "cell_type": "code",
   "execution_count": 1,
   "metadata": {},
   "outputs": [],
   "source": [
    "import cobain\n",
    "import matplotlib.pyplot as plt\n",
    "import numpy as np\n",
    "import os"
   ]
  },
  {
   "cell_type": "markdown",
   "metadata": {},
   "source": [
    "A contact binary is created by providing the following parameters:"
   ]
  },
  {
   "cell_type": "code",
   "execution_count": 2,
   "metadata": {},
   "outputs": [],
   "source": [
    "mass1 = 1.0 # mass of the primary star\n",
    "q = 0.5 # mass ratio of the system\n",
    "FF = 0.1 # fillout factor\n",
    "pot_range = 0.01 # range of potentials to build the mesh in\n",
    "dims = [10,10,10] # dimensions of each component in the mesh [potentials, thetas, phis]\n",
    "n1 = 3.0 # polytropic index of the primary\n",
    "n2 = 3.0 # polytropic index of the secondary\n",
    "lebedev_ndir = 5 # order of Lebedev quadratures\n",
    "directory = os.getcwd()+'contact_basic/'"
   ]
  },
  {
   "cell_type": "markdown",
   "metadata": {},
   "source": [
    "If none of the parameters are provided, the code will create the default system with mass1=1, q=1, FF=0.1, pot_range=0.01, dims=[50,50,50], n1=3.0, n2=3.0, and lebedev_ndir=5.\n",
    "The pickled file of the class instance with the chosen parameters is stored upon creation, to avoid having to build the mesh repeatedly, as well as the initial structural quantity files. If no directory path is explicitly provided, everything will be stored in the current working directory."
   ]
  },
  {
   "cell_type": "markdown",
   "metadata": {},
   "source": [
    "To create a contact binary object and its associated structural files, we call:"
   ]
  },
  {
   "cell_type": "code",
   "execution_count": 3,
   "metadata": {
    "collapsed": false
   },
   "outputs": [
    {
     "name": "stderr",
     "output_type": "stream",
     "text": [
      "2018-04-20 13:16:58,668: Building primary equipotential surface at pot=2.84598619576002\n"
     ]
    },
    {
     "name": "stderr",
     "output_type": "stream",
     "text": [
      "2018-04-20 13:16:59,432: Building primary equipotential surface at pot=2.8470973068711314\n"
     ]
    },
    {
     "name": "stderr",
     "output_type": "stream",
     "text": [
      "2018-04-20 13:16:59,932: Building primary equipotential surface at pot=2.8482084179822422\n"
     ]
    },
    {
     "name": "stderr",
     "output_type": "stream",
     "text": [
      "2018-04-20 13:17:00,698: Building primary equipotential surface at pot=2.8493195290933535\n"
     ]
    },
    {
     "name": "stderr",
     "output_type": "stream",
     "text": [
      "2018-04-20 13:17:01,450: Building primary equipotential surface at pot=2.8504306402044643\n"
     ]
    },
    {
     "name": "stderr",
     "output_type": "stream",
     "text": [
      "2018-04-20 13:17:02,218: Building primary equipotential surface at pot=2.8515417513155756\n"
     ]
    },
    {
     "name": "stderr",
     "output_type": "stream",
     "text": [
      "2018-04-20 13:17:03,007: Building primary equipotential surface at pot=2.8526528624266865\n"
     ]
    },
    {
     "name": "stderr",
     "output_type": "stream",
     "text": [
      "2018-04-20 13:17:03,801: Building primary equipotential surface at pot=2.8537639735377978\n"
     ]
    },
    {
     "name": "stderr",
     "output_type": "stream",
     "text": [
      "2018-04-20 13:17:04,586: Building primary equipotential surface at pot=2.8548750846489086\n"
     ]
    },
    {
     "name": "stderr",
     "output_type": "stream",
     "text": [
      "2018-04-20 13:17:05,389: Building primary equipotential surface at pot=2.85598619576002\n"
     ]
    },
    {
     "name": "stderr",
     "output_type": "stream",
     "text": [
      "2018-04-20 13:17:06,213: Building secondary equipotential surface at pot=2.84598619576002\n"
     ]
    },
    {
     "name": "stderr",
     "output_type": "stream",
     "text": [
      "2018-04-20 13:17:06,713: Building secondary equipotential surface at pot=2.8470973068711314\n"
     ]
    },
    {
     "name": "stderr",
     "output_type": "stream",
     "text": [
      "2018-04-20 13:17:07,432: Building secondary equipotential surface at pot=2.8482084179822422\n"
     ]
    },
    {
     "name": "stderr",
     "output_type": "stream",
     "text": [
      "2018-04-20 13:17:08,171: Building secondary equipotential surface at pot=2.8493195290933535\n"
     ]
    },
    {
     "name": "stderr",
     "output_type": "stream",
     "text": [
      "2018-04-20 13:17:08,855: Building secondary equipotential surface at pot=2.8504306402044643\n"
     ]
    },
    {
     "name": "stderr",
     "output_type": "stream",
     "text": [
      "2018-04-20 13:17:09,520: Building secondary equipotential surface at pot=2.8515417513155756\n"
     ]
    },
    {
     "name": "stderr",
     "output_type": "stream",
     "text": [
      "2018-04-20 13:17:10,079: Building secondary equipotential surface at pot=2.8526528624266865\n"
     ]
    },
    {
     "name": "stderr",
     "output_type": "stream",
     "text": [
      "2018-04-20 13:17:10,733: Building secondary equipotential surface at pot=2.8537639735377978\n"
     ]
    },
    {
     "name": "stderr",
     "output_type": "stream",
     "text": [
      "2018-04-20 13:17:11,230: Building secondary equipotential surface at pot=2.8548750846489086\n"
     ]
    },
    {
     "name": "stderr",
     "output_type": "stream",
     "text": [
      "2018-04-20 13:17:11,889: Building secondary equipotential surface at pot=2.85598619576002\n"
     ]
    },
    {
     "name": "stderr",
     "output_type": "stream",
     "text": [
      "2018-04-20 13:17:12,688: Computing intensities for point 1 of 5\n"
     ]
    },
    {
     "name": "stderr",
     "output_type": "stream",
     "text": [
      "2018-04-20 13:17:16,241: Computing intensities for point 2 of 5\n"
     ]
    },
    {
     "name": "stderr",
     "output_type": "stream",
     "text": [
      "2018-04-20 13:17:20,106: Computing intensities for point 3 of 5\n"
     ]
    },
    {
     "name": "stderr",
     "output_type": "stream",
     "text": [
      "2018-04-20 13:17:23,587: Computing intensities for point 4 of 5\n"
     ]
    },
    {
     "name": "stderr",
     "output_type": "stream",
     "text": [
      "2018-04-20 13:17:27,508: Computing intensities for point 5 of 5\n"
     ]
    }
   ],
   "source": [
    "cb = cobain.bodies.binary.Contact_Binary(mass1 = mass1, q = q, ff = FF, pot_range = pot_range,\n",
    "                                  dims = dims, n1 = n1, n2 = n2,\n",
    "                                  lebedev_ndir = lebedev_ndir,\n",
    "                                  dir = directory)"
   ]
  },
  {
   "cell_type": "markdown",
   "metadata": {},
   "source": [
    "The object is by default pickled into the given directory with a filename 'body', thus loading an already created contact binary object is fairly simple: "
   ]
  },
  {
   "cell_type": "code",
   "execution_count": 4,
   "metadata": {},
   "outputs": [],
   "source": [
    "cb = cobain.bodies.binary.Contact_Binary.unpickle(directory+'body')"
   ]
  },
  {
   "cell_type": "markdown",
   "metadata": {},
   "source": [
    "The contact binary object stores the given parameters, all computed parameters and the mesh. The contents of the mesh are stored in cb.mesh:"
   ]
  },
  {
   "cell_type": "code",
   "execution_count": 5,
   "metadata": {},
   "outputs": [
    {
     "data": {
      "text/plain": [
       "{'normals': array([[ 1.84251060e-02, -0.00000000e+00,  9.99830243e-01],\n        [ 1.84251060e-02, -0.00000000e+00,  9.99830243e-01],\n        [ 1.84251060e-02, -0.00000000e+00,  9.99830243e-01],\n        ...,\n        [ 7.03769974e-01,  7.10427916e-01,  7.62014884e-17],\n        [ 9.16997138e-01,  3.98893782e-01,  8.13215282e-17],\n        [ 1.00000000e+00,  1.46261864e-16,  8.36789084e-17]]),\n 'phis': array([0.        , 0.34906585, 0.6981317 , 1.04719755, 1.3962634 ,\n        1.74532925, 2.0943951 , 2.44346095, 2.7925268 , 3.14159265]),\n 'pots': array([2.8459862 , 2.84709731, 2.84820842, 2.84931953, 2.85043064,\n        2.85154175, 2.85265286, 2.85376397, 2.85487508, 2.8559862 ]),\n 'rhos': array([1.49740983e-09, 1.49740983e-09, 1.49740983e-09, ...,\n        3.17097099e-07, 3.17097099e-07, 3.17097099e-07]),\n 'rs': array([[0.00000000e+00, 0.00000000e+00, 8.38363721e-01],\n        [0.00000000e+00, 0.00000000e+00, 8.38363721e-01],\n        [0.00000000e+00, 0.00000000e+00, 8.38363721e-01],\n        ...,\n        [2.51737018e+00, 4.34630288e-01, 4.14031465e-17],\n        [2.65275702e+00, 2.37803246e-01, 4.25742446e-17],\n        [2.70255934e+00, 8.61124312e-17, 4.30562156e-17]]),\n 'thetas': array([0.        , 0.17453293, 0.34906585, 0.52359878, 0.6981317 ,\n        0.87266463, 1.04719755, 1.22173048, 1.3962634 , 1.57079633])}"
      ]
     },
     "execution_count": 5,
     "metadata": {},
     "output_type": "execute_result"
    }
   ],
   "source": [
    "cb.mesh"
   ]
  },
  {
   "cell_type": "markdown",
   "metadata": {},
   "source": [
    "The mesh stores the nested equipotential coordinates of the mesh ('potentials', 'thetas', 'phis') as well as the cartesian coordinates of the points ('rs'), their normals ('normals') and densitites ('rhos'). We can visualize the mesh with:"
   ]
  },
  {
   "cell_type": "code",
   "execution_count": 6,
   "metadata": {},
   "outputs": [
    {
     "data": {
      "image/png": "[encoded data removed]",
      "text/plain": [
       "<Figure size 432x288 with 1 Axes>"
      ]
     },
     "metadata": {},
     "output_type": "display_data"
    }
   ],
   "source": [
    "plt.scatter(cb.mesh['rs'][:,0], cb.mesh['rs'][:,2], s=1)\n",
    "plt.show()"
   ]
  },
  {
   "cell_type": "markdown",
   "metadata": {},
   "source": [
    "The plotting submodule offers some useful functions for plotting the radiative properties. You can choose to plot the intensity in a given direction:"
   ]
  },
  {
   "cell_type": "code",
   "execution_count": 7,
   "metadata": {},
   "outputs": [
    {
     "data": {
      "image/png": "[encoded data removed]",
      "text/plain": [
       "<Figure size 576x432 with 2 Axes>"
      ]
     },
     "metadata": {},
     "output_type": "display_data"
    }
   ],
   "source": [
    "cobain.bodies.plotting.plot_intensity_dir(cb, simdir = cb.directory, iter_n = 0, \n",
    "                                          direction_no = 2, comp = 1, \n",
    "                                          pot_range = cb.pot_range, skip = 1)\n",
    "# simdir - directory where we keep the rt simulations, can be anything\n",
    "# iter_n - which iteration is being plotted (each one before will also be plotted)\n",
    "# direction_no - the index of the Lebedev direction we're plotting\n",
    "# comp = 1, 2 - primary or secondary component\n",
    "# pot_range - range of potentials to show up on the plot, can be anything\n",
    "# skip - in case of large meshes, the output plot is very large, so some of the points\n",
    "#        can be omitted with [::skip]"
   ]
  },
  {
   "cell_type": "markdown",
   "metadata": {},
   "source": [
    "The default display mode for the plot is plt.show() but it can also be saved with setting savefig=True. The output is by default saved in a directory named 'pics/' within simdir."
   ]
  },
  {
   "cell_type": "code",
   "execution_count": 8,
   "metadata": {},
   "outputs": [
    {
     "data": {
      "image/png": "[encoded data removed]",
      "text/plain": [
       "<Figure size 576x432 with 2 Axes>"
      ]
     },
     "metadata": {},
     "output_type": "display_data"
    }
   ],
   "source": [
    "cobain.bodies.plotting.plot_mean_intensity(cb, simdir = cb.directory, iter_n = 0, comp = 1, \n",
    "                                  pot_range = cb.pot_range, skip = 1)"
   ]
  },
  {
   "cell_type": "code",
   "execution_count": 9,
   "metadata": {},
   "outputs": [
    {
     "data": {
      "image/png": "[encoded data removed]",
      "text/plain": [
       "<Figure size 576x432 with 2 Axes>"
      ]
     },
     "metadata": {},
     "output_type": "display_data"
    }
   ],
   "source": [
    "cobain.bodies.plotting.plot_temperature(cb, simdir = cb.directory, iter_n = 0, comp = 1, \n",
    "                                  pot_range = cb.pot_range, skip = 1)"
   ]
  },
  {
   "cell_type": "markdown",
   "metadata": {},
   "source": [
    "We compute the intensities at a set of given points in cb.mesh['rs'] with cb.sweep_mesh():"
   ]
  },
  {
   "cell_type": "code",
   "execution_count": 11,
   "metadata": {},
   "outputs": [
    {
     "name": "stderr",
     "output_type": "stream",
     "text": [
      "2018-04-20 13:19:16,106: Computing intensities for point 1 of 10\n"
     ]
    },
    {
     "name": "stderr",
     "output_type": "stream",
     "text": [
      "2018-04-20 13:19:19,852: Computing intensities for point 2 of 10\n"
     ]
    },
    {
     "name": "stderr",
     "output_type": "stream",
     "text": [
      "2018-04-20 13:19:23,655: Computing intensities for point 3 of 10\n"
     ]
    },
    {
     "name": "stderr",
     "output_type": "stream",
     "text": [
      "2018-04-20 13:19:27,831: Computing intensities for point 4 of 10\n"
     ]
    },
    {
     "name": "stderr",
     "output_type": "stream",
     "text": [
      "2018-04-20 13:19:31,635: Computing intensities for point 5 of 10\n"
     ]
    },
    {
     "name": "stderr",
     "output_type": "stream",
     "text": [
      "2018-04-20 13:19:35,495: Computing intensities for point 6 of 10\n"
     ]
    },
    {
     "name": "stderr",
     "output_type": "stream",
     "text": [
      "2018-04-20 13:19:39,197: Computing intensities for point 7 of 10\n"
     ]
    },
    {
     "name": "stderr",
     "output_type": "stream",
     "text": [
      "2018-04-20 13:19:42,921: Computing intensities for point 8 of 10\n"
     ]
    },
    {
     "name": "stderr",
     "output_type": "stream",
     "text": [
      "2018-04-20 13:19:46,656: Computing intensities for point 9 of 10\n"
     ]
    },
    {
     "name": "stderr",
     "output_type": "stream",
     "text": [
      "2018-04-20 13:19:50,382: Computing intensities for point 10 of 10\n"
     ]
    }
   ],
   "source": [
    "points = np.linspace(0,len(cb.mesh['rs'])-1,10).astype(int)\n",
    "Is_p, thetas_p, phis_p = cb.sweep_mesh(points=points)"
   ]
  },
  {
   "cell_type": "markdown",
   "metadata": {},
   "source": [
    "thetas_p and phis_p are the spherical angles of the directions rotated with respect to the surface normals of the plots. Once the intensities in all directions are computed, the mean intensity, temperature and opacity can be recomputed with:"
   ]
  },
  {
   "cell_type": "code",
   "execution_count": 12,
   "metadata": {},
   "outputs": [],
   "source": [
    "Js_p, Ts_p, chis_p = cb.conserve_energy(Is_p,points=points)"
   ]
  },
  {
   "cell_type": "code",
   "execution_count": null,
   "metadata": {},
   "outputs": [],
   "source": [
    ""
   ]
  }
 ],
 "metadata": {},
 "nbformat": 4,
 "nbformat_minor": 0
}