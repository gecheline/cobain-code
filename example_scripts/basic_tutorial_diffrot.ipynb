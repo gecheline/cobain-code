{
 "cells": [
  {
   "cell_type": "heading",
   "metadata": {},
   "level": 1,
   "source": [
    "Differentially Rotating Star"
   ]
  },
  {
   "cell_type": "markdown",
   "metadata": {},
   "source": [
    "Import cobain and other useful packages."
   ]
  },
  {
   "cell_type": "code",
   "execution_count": 1,
   "metadata": {},
   "outputs": [],
   "source": [
    "import cobain\n",
    "import os\n",
    "import matplotlib.pyplot as plt\n",
    "import numpy as np"
   ]
  },
  {
   "cell_type": "markdown",
   "metadata": {},
   "source": [
    "A differential rotator is created by providing the following parameters:"
   ]
  },
  {
   "cell_type": "code",
   "execution_count": 2,
   "metadata": {},
   "outputs": [],
   "source": [
    "mass = 1. # mass\n",
    "radius = 1. # radius\n",
    "teff = 5777.0 # effective temperature\n",
    "n = 3. # polytropic index\n",
    "dims = [10,10,10] # dimensions of the mesh [potentials, thetas, phis]\n",
    "bs = [0.1,0.,0.] # parameters determining the differential rotation \n",
    "                           # omega^2 = bs[0] + bs[1]s^2 + b[2]s^4 (Mohan et al. 1991) \n",
    "pot_range = 0.01 # range of potentials to build the mesh in\n",
    "directory = os.getcwd()+'/diffrot_basic/'\n",
    "lebedev_ndir = 5 # order of Lebedev quadratures"
   ]
  },
  {
   "cell_type": "markdown",
   "metadata": {},
   "source": [
    "If none of the parameters are provided, the code will create the default systemwith mass=1.0, radius=1.0, teff=5777.0, n=3.0, dims=[50,50,50], bs=[0.1,0.,0], pot_range=0.01 and lebedev_ndir=5.\n",
    "The pickled file of the class instance with the chosen parameters is stored upon creation, to avoid having to build the mesh repeatedly, as well as the initial structural quantity files. If no directory path is explicitly provided, everything will be stored in the current working directory."
   ]
  },
  {
   "cell_type": "markdown",
   "metadata": {},
   "source": [
    "To create a differentially rotating star object and its associated structural files, we call:"
   ]
  },
  {
   "cell_type": "code",
   "execution_count": 3,
   "metadata": {
    "collapsed": false
   },
   "outputs": [
    {
     "name": "stderr",
     "output_type": "stream",
     "text": [
      "/usr/local/lib/python2.7/site-packages/scipy/integrate/odepack.py:218: ODEintWarning: Excess work done on this call (perhaps wrong Dfun type). Run with full_output = 1 to get quantitative information.\n  warnings.warn(warning_msg, ODEintWarning)\n"
     ]
    },
    {
     "name": "stderr",
     "output_type": "stream",
     "text": [
      "2018-04-20 13:20:45,440: Building equipotential surface at pot=1.0103353160136337\n"
     ]
    },
    {
     "name": "stderr",
     "output_type": "stream",
     "text": [
      "2018-04-20 13:20:46,010: Building equipotential surface at pot=1.0114464271247448\n"
     ]
    },
    {
     "name": "stderr",
     "output_type": "stream",
     "text": [
      "2018-04-20 13:20:46,555: Building equipotential surface at pot=1.0125575382358558\n"
     ]
    },
    {
     "name": "stderr",
     "output_type": "stream",
     "text": [
      "2018-04-20 13:20:47,067: Building equipotential surface at pot=1.013668649346967\n"
     ]
    },
    {
     "name": "stderr",
     "output_type": "stream",
     "text": [
      "2018-04-20 13:20:47,576: Building equipotential surface at pot=1.0147797604580782\n"
     ]
    },
    {
     "name": "stderr",
     "output_type": "stream",
     "text": [
      "2018-04-20 13:20:48,061: Building equipotential surface at pot=1.0158908715691892\n"
     ]
    },
    {
     "name": "stderr",
     "output_type": "stream",
     "text": [
      "2018-04-20 13:20:48,545: Building equipotential surface at pot=1.0170019826803003\n"
     ]
    },
    {
     "name": "stderr",
     "output_type": "stream",
     "text": [
      "2018-04-20 13:20:49,015: Building equipotential surface at pot=1.0181130937914116\n"
     ]
    },
    {
     "name": "stderr",
     "output_type": "stream",
     "text": [
      "2018-04-20 13:20:49,465: Building equipotential surface at pot=1.0192242049025226\n"
     ]
    },
    {
     "name": "stderr",
     "output_type": "stream",
     "text": [
      "2018-04-20 13:20:49,926: Building equipotential surface at pot=1.0203353160136337\n"
     ]
    },
    {
     "name": "stderr",
     "output_type": "stream",
     "text": [
      "2018-04-20 13:20:50,403: Computing intensities for point 1 of 5\n"
     ]
    },
    {
     "name": "stderr",
     "output_type": "stream",
     "text": [
      "2018-04-20 13:21:24,452: Computing intensities for point 2 of 5\n"
     ]
    },
    {
     "name": "stderr",
     "output_type": "stream",
     "text": [
      "2018-04-20 13:21:57,463: Computing intensities for point 3 of 5\n"
     ]
    },
    {
     "name": "stderr",
     "output_type": "stream",
     "text": [
      "2018-04-20 13:22:29,830: Computing intensities for point 4 of 5\n"
     ]
    },
    {
     "name": "stderr",
     "output_type": "stream",
     "text": [
      "2018-04-20 13:23:02,495: Computing intensities for point 5 of 5\n"
     ]
    }
   ],
   "source": [
    "dr = cobain.bodies.star.DiffRot(mass=mass, radius=radius, teff=teff, n=n, \n",
    "                                dims=dims, bs=bs, pot_range=0.01, lebedev_ndir=5,\n",
    "                                dir=directory)"
   ]
  },
  {
   "cell_type": "markdown",
   "metadata": {},
   "source": [
    "The object is by default pickled into the given directory with a filename 'body', thus loading an already created one is fairly simple: "
   ]
  },
  {
   "cell_type": "code",
   "execution_count": 4,
   "metadata": {},
   "outputs": [],
   "source": [
    "dr = cobain.bodies.star.DiffRot.unpickle(directory+'body')"
   ]
  },
  {
   "cell_type": "markdown",
   "metadata": {},
   "source": [
    "The DiffRot object stores the given parameters, all computed parameters and the mesh. The contents of the mesh are stored in dr.mesh:"
   ]
  },
  {
   "cell_type": "code",
   "execution_count": 5,
   "metadata": {},
   "outputs": [
    {
     "data": {
      "text/plain": [
       "{'normals': array([[ 0.00000000e+00,  0.00000000e+00,  1.00000000e+00],\n        [ 0.00000000e+00,  0.00000000e+00,  1.00000000e+00],\n        [ 0.00000000e+00,  0.00000000e+00,  1.00000000e+00],\n        ...,\n        [-7.66044443e-01,  6.42787610e-01,  5.54927817e-17],\n        [-9.39692621e-01,  3.42020143e-01,  5.54927817e-17],\n        [-1.00000000e+00,  1.22464680e-16,  5.54927817e-17]]),\n 'phis': array([0.        , 0.34906585, 0.6981317 , 1.04719755, 1.3962634 ,\n        1.74532925, 2.0943951 , 2.44346095, 2.7925268 , 3.14159265]),\n 'pots': array([1.01033532, 1.01144643, 1.01255754, 1.01366865, 1.01477976,\n        1.01589087, 1.01700198, 1.01811309, 1.0192242 , 1.02033532]),\n 'rhos': array([1.49766667e-09, 1.49766667e-09, 1.49766667e-09, 1.49766667e-09,\n        1.49766667e-09, 1.49766667e-09, 1.49766667e-09, 1.49766667e-09,\n        1.49766667e-09, 1.49766667e-09, 1.49766667e-09, 1.49766667e-09,\n        1.49766667e-09, 1.49766667e-09, 1.49766667e-09, 1.49766667e-09,\n        1.49766667e-09, 1.49766667e-09, 1.49766667e-09, 1.49766667e-09,\n        1.49766667e-09, 1.49766667e-09, 1.49766667e-09, 1.49766667e-09,\n        1.49766667e-09, 1.49766667e-09, 1.49766667e-09, 1.49766667e-09,\n        1.49766667e-09, 1.49766667e-09, 1.49766667e-09, 1.49766667e-09,\n        1.49766667e-09, 1.49766667e-09, 1.49766667e-09, 1.49766667e-09,\n        1.49766667e-09, 1.49766667e-09, 1.49766667e-09, 1.49766667e-09,\n        1.49766667e-09, 1.49766667e-09, 1.49766667e-09, 1.49766667e-09,\n        1.49766667e-09, 1.49766667e-09, 1.49766667e-09, 1.49766667e-09,\n        1.49766667e-09, 1.49766667e-09, 1.49766667e-09, 1.49766667e-09,\n        1.49766667e-09, 1.49766667e-09, 1.49766667e-09, 1.49766667e-09,\n        1.49766667e-09, 1.49766667e-09, 1.49766667e-09, 1.49766667e-09,\n        1.49766667e-09, 1.49766667e-09, 1.49766667e-09, 1.49766667e-09,\n        1.49766667e-09, 1.49766667e-09, 1.49766667e-09, 1.49766667e-09,\n        1.49766667e-09, 1.49766667e-09, 1.49766667e-09, 1.49766667e-09,\n        1.49766667e-09, 1.49766667e-09, 1.49766667e-09, 1.49766667e-09,\n        1.49766667e-09, 1.49766667e-09, 1.49766667e-09, 1.49766667e-09,\n        1.49766667e-09, 1.49766667e-09, 1.49766667e-09, 1.49766667e-09,\n        1.49766667e-09, 1.49766667e-09, 1.49766667e-09, 1.49766667e-09,\n        1.49766667e-09, 1.49766667e-09, 1.49766667e-09, 1.49766667e-09,\n        1.49766667e-09, 1.49766667e-09, 1.49766667e-09, 1.49766667e-09,\n        1.49766667e-09, 1.49766667e-09, 1.49766667e-09, 1.49766667e-09,\n        6.99217199e-09, 6.99217199e-09, 6.99217199e-09, 6.99217199e-09,\n        6.99217199e-09, 6.99217199e-09, 6.99217199e-09, 6.99217199e-09,\n        6.99217199e-09, 6.99217199e-09, 6.99217199e-09, 6.99217199e-09,\n        6.99217199e-09, 6.99217199e-09, 6.99217199e-09, 6.99217199e-09,\n        6.99217199e-09, 6.99217199e-09, 6.99217199e-09, 6.99217199e-09,\n        6.99217199e-09, 6.99217199e-09, 6.99217199e-09, 6.99217199e-09,\n        6.99217199e-09, 6.99217199e-09, 6.99217199e-09, 6.99217199e-09,\n        6.99217199e-09, 6.99217199e-09, 6.99217199e-09, 6.99217199e-09,\n        6.99217199e-09, 6.99217199e-09, 6.99217199e-09, 6.99217199e-09,\n        6.99217199e-09, 6.99217199e-09, 6.99217199e-09, 6.99217199e-09,\n        6.99217199e-09, 6.99217199e-09, 6.99217199e-09, 6.99217199e-09,\n        6.99217199e-09, 6.99217199e-09, 6.99217199e-09, 6.99217199e-09,\n        6.99217199e-09, 6.99217199e-09, 6.99217199e-09, 6.99217199e-09,\n        6.99217199e-09, 6.99217199e-09, 6.99217199e-09, 6.99217199e-09,\n        6.99217199e-09, 6.99217199e-09, 6.99217199e-09, 6.99217199e-09,\n        6.99217199e-09, 6.99217199e-09, 6.99217199e-09, 6.99217199e-09,\n        6.99217199e-09, 6.99217199e-09, 6.99217199e-09, 6.99217199e-09,\n        6.99217199e-09, 6.99217199e-09, 6.99217199e-09, 6.99217199e-09,\n        6.99217199e-09, 6.99217199e-09, 6.99217199e-09, 6.99217199e-09,\n        6.99217199e-09, 6.99217199e-09, 6.99217199e-09, 6.99217199e-09,\n        6.99217199e-09, 6.99217199e-09, 6.99217199e-09, 6.99217199e-09,\n        6.99217199e-09, 6.99217199e-09, 6.99217199e-09, 6.99217199e-09,\n        6.99217199e-09, 6.99217199e-09, 6.99217199e-09, 6.99217199e-09,\n        6.99217199e-09, 6.99217199e-09, 6.99217199e-09, 6.99217199e-09,\n        6.99217199e-09, 6.99217199e-09, 6.99217199e-09, 6.99217199e-09,\n        1.92555505e-08, 1.92555505e-08, 1.92555505e-08, 1.92555505e-08,\n        1.92555505e-08, 1.92555505e-08, 1.92555505e-08, 1.92555505e-08,\n        1.92555505e-08, 1.92555505e-08, 1.92555505e-08, 1.92555505e-08,\n        1.92555505e-08, 1.92555505e-08, 1.92555505e-08, 1.92555505e-08,\n        1.92555505e-08, 1.92555505e-08, 1.92555505e-08, 1.92555505e-08,\n        1.92555505e-08, 1.92555505e-08, 1.92555505e-08, 1.92555505e-08,\n        1.92555505e-08, 1.92555505e-08, 1.92555505e-08, 1.92555505e-08,\n        1.92555505e-08, 1.92555505e-08, 1.92555505e-08, 1.92555505e-08,\n        1.92555505e-08, 1.92555505e-08, 1.92555505e-08, 1.92555505e-08,\n        1.92555505e-08, 1.92555505e-08, 1.92555505e-08, 1.92555505e-08,\n        1.92555505e-08, 1.92555505e-08, 1.92555505e-08, 1.92555505e-08,\n        1.92555505e-08, 1.92555505e-08, 1.92555505e-08, 1.92555505e-08,\n        1.92555505e-08, 1.92555505e-08, 1.92555505e-08, 1.92555505e-08,\n        1.92555505e-08, 1.92555505e-08, 1.92555505e-08, 1.92555505e-08,\n        1.92555505e-08, 1.92555505e-08, 1.92555505e-08, 1.92555505e-08,\n        1.92555505e-08, 1.92555505e-08, 1.92555505e-08, 1.92555505e-08,\n        1.92555505e-08, 1.92555505e-08, 1.92555505e-08, 1.92555505e-08,\n        1.92555505e-08, 1.92555505e-08, 1.92555505e-08, 1.92555505e-08,\n        1.92555505e-08, 1.92555505e-08, 1.92555505e-08, 1.92555505e-08,\n        1.92555505e-08, 1.92555505e-08, 1.92555505e-08, 1.92555505e-08,\n        1.92555505e-08, 1.92555505e-08, 1.92555505e-08, 1.92555505e-08,\n        1.92555505e-08, 1.92555505e-08, 1.92555505e-08, 1.92555505e-08,\n        1.92555505e-08, 1.92555505e-08, 1.92555505e-08, 1.92555505e-08,\n        1.92555505e-08, 1.92555505e-08, 1.92555505e-08, 1.92555505e-08,\n        1.92555505e-08, 1.92555505e-08, 1.92555505e-08, 1.92555505e-08,\n        4.10066712e-08, 4.10066712e-08, 4.10066712e-08, 4.10066712e-08,\n        4.10066712e-08, 4.10066712e-08, 4.10066712e-08, 4.10066712e-08,\n        4.10066712e-08, 4.10066712e-08, 4.10066712e-08, 4.10066712e-08,\n        4.10066712e-08, 4.10066712e-08, 4.10066712e-08, 4.10066712e-08,\n        4.10066712e-08, 4.10066712e-08, 4.10066712e-08, 4.10066712e-08,\n        4.10066712e-08, 4.10066712e-08, 4.10066712e-08, 4.10066712e-08,\n        4.10066712e-08, 4.10066712e-08, 4.10066712e-08, 4.10066712e-08,\n        4.10066712e-08, 4.10066712e-08, 4.10066712e-08, 4.10066712e-08,\n        4.10066712e-08, 4.10066712e-08, 4.10066712e-08, 4.10066712e-08,\n        4.10066712e-08, 4.10066712e-08, 4.10066712e-08, 4.10066712e-08,\n        4.10066712e-08, 4.10066712e-08, 4.10066712e-08, 4.10066712e-08,\n        4.10066712e-08, 4.10066712e-08, 4.10066712e-08, 4.10066712e-08,\n        4.10066712e-08, 4.10066712e-08, 4.10066712e-08, 4.10066712e-08,\n        4.10066712e-08, 4.10066712e-08, 4.10066712e-08, 4.10066712e-08,\n        4.10066712e-08, 4.10066712e-08, 4.10066712e-08, 4.10066712e-08,\n        4.10066712e-08, 4.10066712e-08, 4.10066712e-08, 4.10066712e-08,\n        4.10066712e-08, 4.10066712e-08, 4.10066712e-08, 4.10066712e-08,\n        4.10066712e-08, 4.10066712e-08, 4.10066712e-08, 4.10066712e-08,\n        4.10066712e-08, 4.10066712e-08, 4.10066712e-08, 4.10066712e-08,\n        4.10066712e-08, 4.10066712e-08, 4.10066712e-08, 4.10066712e-08,\n        4.10066712e-08, 4.10066712e-08, 4.10066712e-08, 4.10066712e-08,\n        4.10066712e-08, 4.10066712e-08, 4.10066712e-08, 4.10066712e-08,\n        4.10066712e-08, 4.10066712e-08, 4.10066712e-08, 4.10066712e-08,\n        4.10066712e-08, 4.10066712e-08, 4.10066712e-08, 4.10066712e-08,\n        4.10066712e-08, 4.10066712e-08, 4.10066712e-08, 4.10066712e-08,\n        7.49642688e-08, 7.49642688e-08, 7.49642688e-08, 7.49642688e-08,\n        7.49642688e-08, 7.49642688e-08, 7.49642688e-08, 7.49642688e-08,\n        7.49642688e-08, 7.49642688e-08, 7.49642688e-08, 7.49642688e-08,\n        7.49642688e-08, 7.49642688e-08, 7.49642688e-08, 7.49642688e-08,\n        7.49642688e-08, 7.49642688e-08, 7.49642688e-08, 7.49642688e-08,\n        7.49642688e-08, 7.49642688e-08, 7.49642688e-08, 7.49642688e-08,\n        7.49642688e-08, 7.49642688e-08, 7.49642688e-08, 7.49642688e-08,\n        7.49642688e-08, 7.49642688e-08, 7.49642688e-08, 7.49642688e-08,\n        7.49642688e-08, 7.49642688e-08, 7.49642688e-08, 7.49642688e-08,\n        7.49642688e-08, 7.49642688e-08, 7.49642688e-08, 7.49642688e-08,\n        7.49642688e-08, 7.49642688e-08, 7.49642688e-08, 7.49642688e-08,\n        7.49642688e-08, 7.49642688e-08, 7.49642688e-08, 7.49642688e-08,\n        7.49642688e-08, 7.49642688e-08, 7.49642688e-08, 7.49642688e-08,\n        7.49642688e-08, 7.49642688e-08, 7.49642688e-08, 7.49642688e-08,\n        7.49642688e-08, 7.49642688e-08, 7.49642688e-08, 7.49642688e-08,\n        7.49642688e-08, 7.49642688e-08, 7.49642688e-08, 7.49642688e-08,\n        7.49642688e-08, 7.49642688e-08, 7.49642688e-08, 7.49642688e-08,\n        7.49642688e-08, 7.49642688e-08, 7.49642688e-08, 7.49642688e-08,\n        7.49642688e-08, 7.49642688e-08, 7.49642688e-08, 7.49642688e-08,\n        7.49642688e-08, 7.49642688e-08, 7.49642688e-08, 7.49642688e-08,\n        7.49642688e-08, 7.49642688e-08, 7.49642688e-08, 7.49642688e-08,\n        7.49642688e-08, 7.49642688e-08, 7.49642688e-08, 7.49642688e-08,\n        7.49642688e-08, 7.49642688e-08, 7.49642688e-08, 7.49642688e-08,\n        7.49642688e-08, 7.49642688e-08, 7.49642688e-08, 7.49642688e-08,\n        7.49642688e-08, 7.49642688e-08, 7.49642688e-08, 7.49642688e-08,\n        1.23846996e-07, 1.23846996e-07, 1.23846996e-07, 1.23846996e-07,\n        1.23846996e-07, 1.23846996e-07, 1.23846996e-07, 1.23846996e-07,\n        1.23846996e-07, 1.23846996e-07, 1.23846996e-07, 1.23846996e-07,\n        1.23846996e-07, 1.23846996e-07, 1.23846996e-07, 1.23846996e-07,\n        1.23846996e-07, 1.23846996e-07, 1.23846996e-07, 1.23846996e-07,\n        1.23846996e-07, 1.23846996e-07, 1.23846996e-07, 1.23846996e-07,\n        1.23846996e-07, 1.23846996e-07, 1.23846996e-07, 1.23846996e-07,\n        1.23846996e-07, 1.23846996e-07, 1.23846996e-07, 1.23846996e-07,\n        1.23846996e-07, 1.23846996e-07, 1.23846996e-07, 1.23846996e-07,\n        1.23846996e-07, 1.23846996e-07, 1.23846996e-07, 1.23846996e-07,\n        1.23846996e-07, 1.23846996e-07, 1.23846996e-07, 1.23846996e-07,\n        1.23846996e-07, 1.23846996e-07, 1.23846996e-07, 1.23846996e-07,\n        1.23846996e-07, 1.23846996e-07, 1.23846996e-07, 1.23846996e-07,\n        1.23846996e-07, 1.23846996e-07, 1.23846996e-07, 1.23846996e-07,\n        1.23846996e-07, 1.23846996e-07, 1.23846996e-07, 1.23846996e-07,\n        1.23846996e-07, 1.23846996e-07, 1.23846996e-07, 1.23846996e-07,\n        1.23846996e-07, 1.23846996e-07, 1.23846996e-07, 1.23846996e-07,\n        1.23846996e-07, 1.23846996e-07, 1.23846996e-07, 1.23846996e-07,\n        1.23846996e-07, 1.23846996e-07, 1.23846996e-07, 1.23846996e-07,\n        1.23846996e-07, 1.23846996e-07, 1.23846996e-07, 1.23846996e-07,\n        1.23846996e-07, 1.23846996e-07, 1.23846996e-07, 1.23846996e-07,\n        1.23846996e-07, 1.23846996e-07, 1.23846996e-07, 1.23846996e-07,\n        1.23846996e-07, 1.23846996e-07, 1.23846996e-07, 1.23846996e-07,\n        1.23846996e-07, 1.23846996e-07, 1.23846996e-07, 1.23846996e-07,\n        1.23846996e-07, 1.23846996e-07, 1.23846996e-07, 1.23846996e-07,\n        1.90373416e-07, 1.90373416e-07, 1.90373416e-07, 1.90373416e-07,\n        1.90373416e-07, 1.90373416e-07, 1.90373416e-07, 1.90373416e-07,\n        1.90373416e-07, 1.90373416e-07, 1.90373416e-07, 1.90373416e-07,\n        1.90373416e-07, 1.90373416e-07, 1.90373416e-07, 1.90373416e-07,\n        1.90373416e-07, 1.90373416e-07, 1.90373416e-07, 1.90373416e-07,\n        1.90373416e-07, 1.90373416e-07, 1.90373416e-07, 1.90373416e-07,\n        1.90373416e-07, 1.90373416e-07, 1.90373416e-07, 1.90373416e-07,\n        1.90373416e-07, 1.90373416e-07, 1.90373416e-07, 1.90373416e-07,\n        1.90373416e-07, 1.90373416e-07, 1.90373416e-07, 1.90373416e-07,\n        1.90373416e-07, 1.90373416e-07, 1.90373416e-07, 1.90373416e-07,\n        1.90373416e-07, 1.90373416e-07, 1.90373416e-07, 1.90373416e-07,\n        1.90373416e-07, 1.90373416e-07, 1.90373416e-07, 1.90373416e-07,\n        1.90373416e-07, 1.90373416e-07, 1.90373416e-07, 1.90373416e-07,\n        1.90373416e-07, 1.90373416e-07, 1.90373416e-07, 1.90373416e-07,\n        1.90373416e-07, 1.90373416e-07, 1.90373416e-07, 1.90373416e-07,\n        1.90373416e-07, 1.90373416e-07, 1.90373416e-07, 1.90373416e-07,\n        1.90373416e-07, 1.90373416e-07, 1.90373416e-07, 1.90373416e-07,\n        1.90373416e-07, 1.90373416e-07, 1.90373416e-07, 1.90373416e-07,\n        1.90373416e-07, 1.90373416e-07, 1.90373416e-07, 1.90373416e-07,\n        1.90373416e-07, 1.90373416e-07, 1.90373416e-07, 1.90373416e-07,\n        1.90373416e-07, 1.90373416e-07, 1.90373416e-07, 1.90373416e-07,\n        1.90373416e-07, 1.90373416e-07, 1.90373416e-07, 1.90373416e-07,\n        1.90373416e-07, 1.90373416e-07, 1.90373416e-07, 1.90373416e-07,\n        1.90373416e-07, 1.90373416e-07, 1.90373416e-07, 1.90373416e-07,\n        1.90373416e-07, 1.90373416e-07, 1.90373416e-07, 1.90373416e-07,\n        2.77262157e-07, 2.77262157e-07, 2.77262157e-07, 2.77262157e-07,\n        2.77262157e-07, 2.77262157e-07, 2.77262157e-07, 2.77262157e-07,\n        2.77262157e-07, 2.77262157e-07, 2.77262157e-07, 2.77262157e-07,\n        2.77262157e-07, 2.77262157e-07, 2.77262157e-07, 2.77262157e-07,\n        2.77262157e-07, 2.77262157e-07, 2.77262157e-07, 2.77262157e-07,\n        2.77262157e-07, 2.77262157e-07, 2.77262157e-07, 2.77262157e-07,\n        2.77262157e-07, 2.77262157e-07, 2.77262157e-07, 2.77262157e-07,\n        2.77262157e-07, 2.77262157e-07, 2.77262157e-07, 2.77262157e-07,\n        2.77262157e-07, 2.77262157e-07, 2.77262157e-07, 2.77262157e-07,\n        2.77262157e-07, 2.77262157e-07, 2.77262157e-07, 2.77262157e-07,\n        2.77262157e-07, 2.77262157e-07, 2.77262157e-07, 2.77262157e-07,\n        2.77262157e-07, 2.77262157e-07, 2.77262157e-07, 2.77262157e-07,\n        2.77262157e-07, 2.77262157e-07, 2.77262157e-07, 2.77262157e-07,\n        2.77262157e-07, 2.77262157e-07, 2.77262157e-07, 2.77262157e-07,\n        2.77262157e-07, 2.77262157e-07, 2.77262157e-07, 2.77262157e-07,\n        2.77262157e-07, 2.77262157e-07, 2.77262157e-07, 2.77262157e-07,\n        2.77262157e-07, 2.77262157e-07, 2.77262157e-07, 2.77262157e-07,\n        2.77262157e-07, 2.77262157e-07, 2.77262157e-07, 2.77262157e-07,\n        2.77262157e-07, 2.77262157e-07, 2.77262157e-07, 2.77262157e-07,\n        2.77262157e-07, 2.77262157e-07, 2.77262157e-07, 2.77262157e-07,\n        2.77262157e-07, 2.77262157e-07, 2.77262157e-07, 2.77262157e-07,\n        2.77262157e-07, 2.77262157e-07, 2.77262157e-07, 2.77262157e-07,\n        2.77262157e-07, 2.77262157e-07, 2.77262157e-07, 2.77262157e-07,\n        2.77262157e-07, 2.77262157e-07, 2.77262157e-07, 2.77262157e-07,\n        2.77262157e-07, 2.77262157e-07, 2.77262157e-07, 2.77262157e-07,\n        3.87231945e-07, 3.87231945e-07, 3.87231945e-07, 3.87231945e-07,\n        3.87231945e-07, 3.87231945e-07, 3.87231945e-07, 3.87231945e-07,\n        3.87231945e-07, 3.87231945e-07, 3.87231945e-07, 3.87231945e-07,\n        3.87231945e-07, 3.87231945e-07, 3.87231945e-07, 3.87231945e-07,\n        3.87231945e-07, 3.87231945e-07, 3.87231945e-07, 3.87231945e-07,\n        3.87231945e-07, 3.87231945e-07, 3.87231945e-07, 3.87231945e-07,\n        3.87231945e-07, 3.87231945e-07, 3.87231945e-07, 3.87231945e-07,\n        3.87231945e-07, 3.87231945e-07, 3.87231945e-07, 3.87231945e-07,\n        3.87231945e-07, 3.87231945e-07, 3.87231945e-07, 3.87231945e-07,\n        3.87231945e-07, 3.87231945e-07, 3.87231945e-07, 3.87231945e-07,\n        3.87231945e-07, 3.87231945e-07, 3.87231945e-07, 3.87231945e-07,\n        3.87231945e-07, 3.87231945e-07, 3.87231945e-07, 3.87231945e-07,\n        3.87231945e-07, 3.87231945e-07, 3.87231945e-07, 3.87231945e-07,\n        3.87231945e-07, 3.87231945e-07, 3.87231945e-07, 3.87231945e-07,\n        3.87231945e-07, 3.87231945e-07, 3.87231945e-07, 3.87231945e-07,\n        3.87231945e-07, 3.87231945e-07, 3.87231945e-07, 3.87231945e-07,\n        3.87231945e-07, 3.87231945e-07, 3.87231945e-07, 3.87231945e-07,\n        3.87231945e-07, 3.87231945e-07, 3.87231945e-07, 3.87231945e-07,\n        3.87231945e-07, 3.87231945e-07, 3.87231945e-07, 3.87231945e-07,\n        3.87231945e-07, 3.87231945e-07, 3.87231945e-07, 3.87231945e-07,\n        3.87231945e-07, 3.87231945e-07, 3.87231945e-07, 3.87231945e-07,\n        3.87231945e-07, 3.87231945e-07, 3.87231945e-07, 3.87231945e-07,\n        3.87231945e-07, 3.87231945e-07, 3.87231945e-07, 3.87231945e-07,\n        3.87231945e-07, 3.87231945e-07, 3.87231945e-07, 3.87231945e-07,\n        3.87231945e-07, 3.87231945e-07, 3.87231945e-07, 3.87231945e-07,\n        5.23000815e-07, 5.23000815e-07, 5.23000815e-07, 5.23000815e-07,\n        5.23000815e-07, 5.23000815e-07, 5.23000815e-07, 5.23000815e-07,\n        5.23000815e-07, 5.23000815e-07, 5.23000815e-07, 5.23000815e-07,\n        5.23000815e-07, 5.23000815e-07, 5.23000815e-07, 5.23000815e-07,\n        5.23000815e-07, 5.23000815e-07, 5.23000815e-07, 5.23000815e-07,\n        5.23000815e-07, 5.23000815e-07, 5.23000815e-07, 5.23000815e-07,\n        5.23000815e-07, 5.23000815e-07, 5.23000815e-07, 5.23000815e-07,\n        5.23000815e-07, 5.23000815e-07, 5.23000815e-07, 5.23000815e-07,\n        5.23000815e-07, 5.23000815e-07, 5.23000815e-07, 5.23000815e-07,\n        5.23000815e-07, 5.23000815e-07, 5.23000815e-07, 5.23000815e-07,\n        5.23000815e-07, 5.23000815e-07, 5.23000815e-07, 5.23000815e-07,\n        5.23000815e-07, 5.23000815e-07, 5.23000815e-07, 5.23000815e-07,\n        5.23000815e-07, 5.23000815e-07, 5.23000815e-07, 5.23000815e-07,\n        5.23000815e-07, 5.23000815e-07, 5.23000815e-07, 5.23000815e-07,\n        5.23000815e-07, 5.23000815e-07, 5.23000815e-07, 5.23000815e-07,\n        5.23000815e-07, 5.23000815e-07, 5.23000815e-07, 5.23000815e-07,\n        5.23000815e-07, 5.23000815e-07, 5.23000815e-07, 5.23000815e-07,\n        5.23000815e-07, 5.23000815e-07, 5.23000815e-07, 5.23000815e-07,\n        5.23000815e-07, 5.23000815e-07, 5.23000815e-07, 5.23000815e-07,\n        5.23000815e-07, 5.23000815e-07, 5.23000815e-07, 5.23000815e-07,\n        5.23000815e-07, 5.23000815e-07, 5.23000815e-07, 5.23000815e-07,\n        5.23000815e-07, 5.23000815e-07, 5.23000815e-07, 5.23000815e-07,\n        5.23000815e-07, 5.23000815e-07, 5.23000815e-07, 5.23000815e-07,\n        5.23000815e-07, 5.23000815e-07, 5.23000815e-07, 5.23000815e-07,\n        5.23000815e-07, 5.23000815e-07, 5.23000815e-07, 5.23000815e-07]),\n 'rs': array([[ 0.00000000e+00,  0.00000000e+00,  9.89770410e-01],\n        [ 0.00000000e+00,  0.00000000e+00,  9.89770410e-01],\n        [ 0.00000000e+00,  0.00000000e+00,  9.89770410e-01],\n        ...,\n        [-7.92311459e-01,  6.64828253e-01,  6.33319451e-17],\n        [-9.71913886e-01,  3.53747725e-01,  6.33319451e-17],\n        [-1.03428915e+00,  1.26663890e-16,  6.33319451e-17]]),\n 'thetas': array([0.        , 0.17453293, 0.34906585, 0.52359878, 0.6981317 ,\n        0.87266463, 1.04719755, 1.22173048, 1.3962634 , 1.57079633])}"
      ]
     },
     "execution_count": 5,
     "metadata": {},
     "output_type": "execute_result"
    }
   ],
   "source": [
    "dr.mesh"
   ]
  },
  {
   "cell_type": "markdown",
   "metadata": {},
   "source": [
    "The mesh stores the nested equipotential coordinates of the mesh ('potentials', 'thetas', 'phis') as well as the cartesian coordinates of the points ('rs'), their normals ('normals') and densitites ('rhos'). We can visualize the mesh with:"
   ]
  },
  {
   "cell_type": "code",
   "execution_count": 6,
   "metadata": {},
   "outputs": [
    {
     "data": {
      "image/png": "[encoded data removed]",
      "text/plain": [
       "<Figure size 432x288 with 1 Axes>"
      ]
     },
     "metadata": {},
     "output_type": "display_data"
    }
   ],
   "source": [
    "plt.scatter(dr.mesh['rs'][:,0], dr.mesh['rs'][:,2], s=1)\n",
    "plt.show()"
   ]
  },
  {
   "cell_type": "markdown",
   "metadata": {},
   "source": [
    "The plotting submodule offers some useful functions for plotting the radiative properties. You can choose to plot the intensity in a given direction:"
   ]
  },
  {
   "cell_type": "code",
   "execution_count": 7,
   "metadata": {},
   "outputs": [
    {
     "data": {
      "image/png": "[encoded data removed]",
      "text/plain": [
       "<Figure size 576x432 with 2 Axes>"
      ]
     },
     "metadata": {},
     "output_type": "display_data"
    }
   ],
   "source": [
    "cobain.bodies.plotting.plot_intensity_dir(dr, simdir = dr.directory, iter_n = 0, \n",
    "                                          direction_no = 2, \n",
    "                                          pot_range = dr.pot_range, skip = 1)\n",
    "# simdir - directory where we keep the rt simulations, can be anything\n",
    "# iter_n - which iteration is being plotted (each one before will also be plotted)\n",
    "# direction_no - the index of the Lebedev direction we're plotting\n",
    "# comp = 1, 2 - primary or secondary component\n",
    "# pot_range - range of potentials to show up on the plot, can be anything\n",
    "# skip - in case of large meshes, the output plot is very large, so some of the points\n",
    "#        can be omitted with [::skip]"
   ]
  },
  {
   "cell_type": "markdown",
   "metadata": {},
   "source": [
    "The default display mode for the plot is plt.show() but it can also be saved with setting savefig=True. The output is by default saved in a directory named 'pics/' within simdir."
   ]
  },
  {
   "cell_type": "code",
   "execution_count": 8,
   "metadata": {},
   "outputs": [
    {
     "data": {
      "image/png": "[encoded data removed]",
      "text/plain": [
       "<Figure size 576x432 with 2 Axes>"
      ]
     },
     "metadata": {},
     "output_type": "display_data"
    }
   ],
   "source": [
    "cobain.bodies.plotting.plot_mean_intensity(dr, simdir = dr.directory, iter_n = 0, \n",
    "                                  pot_range = dr.pot_range, skip = 1)"
   ]
  },
  {
   "cell_type": "code",
   "execution_count": 9,
   "metadata": {},
   "outputs": [
    {
     "data": {
      "image/png": "[encoded data removed]",
      "text/plain": [
       "<Figure size 576x432 with 2 Axes>"
      ]
     },
     "metadata": {},
     "output_type": "display_data"
    }
   ],
   "source": [
    "cobain.bodies.plotting.plot_temperature(dr, simdir = dr.directory, iter_n = 0, \n",
    "                                  pot_range = dr.pot_range, skip = 1)"
   ]
  },
  {
   "cell_type": "markdown",
   "metadata": {},
   "source": [
    "We compute the intensities at a set of given points in dr.mesh['rs'] with dr.sweep_mesh():"
   ]
  },
  {
   "cell_type": "code",
   "execution_count": 11,
   "metadata": {},
   "outputs": [
    {
     "name": "stderr",
     "output_type": "stream",
     "text": [
      "2018-04-20 13:44:36,714: Computing intensities for point 1 of 10\n"
     ]
    },
    {
     "name": "stderr",
     "output_type": "stream",
     "text": [
      "2018-04-20 13:44:49,282: Computing intensities for point 2 of 10\n"
     ]
    },
    {
     "name": "stderr",
     "output_type": "stream",
     "text": [
      "2018-04-20 13:45:10,919: Computing intensities for point 3 of 10\n"
     ]
    },
    {
     "name": "stderr",
     "output_type": "stream",
     "text": [
      "2018-04-20 13:45:36,910: Computing intensities for point 4 of 10\n"
     ]
    },
    {
     "name": "stderr",
     "output_type": "stream",
     "text": [
      "2018-04-20 13:46:02,434: Computing intensities for point 5 of 10\n"
     ]
    },
    {
     "name": "stderr",
     "output_type": "stream",
     "text": [
      "2018-04-20 13:46:28,595: Computing intensities for point 6 of 10\n"
     ]
    },
    {
     "name": "stderr",
     "output_type": "stream",
     "text": [
      "2018-04-20 13:46:53,925: Computing intensities for point 7 of 10\n"
     ]
    },
    {
     "name": "stderr",
     "output_type": "stream",
     "text": [
      "2018-04-20 13:47:18,510: Computing intensities for point 8 of 10\n"
     ]
    },
    {
     "name": "stderr",
     "output_type": "stream",
     "text": [
      "2018-04-20 13:47:44,611: Computing intensities for point 9 of 10\n"
     ]
    },
    {
     "name": "stderr",
     "output_type": "stream",
     "text": [
      "2018-04-20 13:48:13,129: Computing intensities for point 10 of 10\n"
     ]
    }
   ],
   "source": [
    "points = np.linspace(0,len(dr.mesh['rs'])-1,10).astype(int)\n",
    "Is_p, thetas_p, phis_p = dr.sweep_mesh(points=points)"
   ]
  },
  {
   "cell_type": "markdown",
   "metadata": {},
   "source": [
    "thetas_p and phis_p are the spherical angles of the directions rotated with respect to the surface normals of the plots. Once the intensities in all directions are computed, the mean intensity, temperature and opacity can be recomputed with:"
   ]
  },
  {
   "cell_type": "code",
   "execution_count": 12,
   "metadata": {},
   "outputs": [],
   "source": [
    "Js_p, Ts_p, chis_p = dr.conserve_energy(Is_p,points=points)"
   ]
  },
  {
   "cell_type": "code",
   "execution_count": null,
   "metadata": {},
   "outputs": [],
   "source": [
    ""
   ]
  }
 ],
 "metadata": {},
 "nbformat": 4,
 "nbformat_minor": 0
}